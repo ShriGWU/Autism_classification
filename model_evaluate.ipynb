{
 "cells": [
  {
   "cell_type": "code",
   "execution_count": null,
   "id": "32a3105a",
   "metadata": {},
   "outputs": [],
   "source": [
    "import tensorflow as tf\n",
    "from tensorflow.keras.models import load_model\n",
    "import os\n",
    "import numpy as np\n",
    "\n",
    "# ✅ Load the trained model\n",
    "model = load_model(\"/home/shrishailterniofficial/final_model_best_rewrite.keras\")\n",
    "\n",
    "# ✅ Test folder\n",
    "test_folder = \"/home/shrishailterniofficial/mri-data/test\"\n",
    "image_files = sorted([f for f in os.listdir(test_folder) if \"images_batch\" in f])\n",
    "label_files = sorted([f for f in os.listdir(test_folder) if \"labels_batch\" in f])\n",
    "\n",
    "# ✅ Metrics\n",
    "total_accuracy = 0\n",
    "num_batches = 0\n",
    "\n",
    "for img_file, lbl_file in zip(image_files, label_files):\n",
    "    print(f\"\\n🧪 Evaluating batch: {img_file}\")\n",
    "\n",
    "    X = np.load(os.path.join(test_folder, img_file))\n",
    "    y = np.load(os.path.join(test_folder, lbl_file)).flatten()\n",
    "\n",
    "    # 🔵 Corrected reshape\n",
    "    X = X.reshape(-1, 80, 128, 128, 1)\n",
    "\n",
    "    # 🔍 Debugging: view predictions\n",
    "    predictions = model.predict(X, verbose=0)\n",
    "    predicted_classes = (predictions > 0.5).astype(\"int32\")\n",
    "    print(\"🔎 Predictions:\", predicted_classes[:10].flatten())\n",
    "    print(\"✅ Labels     :\", y[:10])\n",
    "\n",
    "    loss, accuracy = model.evaluate(X, y, verbose=0)\n",
    "    print(f\"✅ Batch accuracy: {accuracy:.4f}\")\n",
    "    \n",
    "    total_accuracy += accuracy\n",
    "    num_batches += 1\n",
    "\n",
    "# ✅ Final average accuracy\n",
    "if num_batches > 0:\n",
    "    avg_accuracy = total_accuracy / num_batches\n",
    "    print(f\"\\n🎯 Final Average Test Accuracy: {avg_accuracy:.4f}\")"
   ]
  }
 ],
 "metadata": {
  "language_info": {
   "name": "python"
  }
 },
 "nbformat": 4,
 "nbformat_minor": 5
}
